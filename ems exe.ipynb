{
 "cells": [
  {
   "cell_type": "code",
   "execution_count": 3,
   "id": "62b36fc7",
   "metadata": {},
   "outputs": [],
   "source": [
    "from EMS_PACKAGE import main"
   ]
  },
  {
   "cell_type": "code",
   "execution_count": null,
   "id": "viral-rally",
   "metadata": {},
   "outputs": [
    {
     "name": "stdout",
     "output_type": "stream",
     "text": [
      "                                     Maharashtra Legislative assembly election 2022                                     \n",
      "                                         Conducted by State Election Commission                                         \n",
      "Press:\n",
      "1 if you're an ADMIN \n",
      "2 if you're a VOTER \n",
      "3 to EXIT 2\n",
      "Please Enter id: 9\n",
      "Welcome Arush!\n",
      "Please Enter your password.You have 3 attempts.\n",
      "Enter password: 123456\n",
      "Incorrect password!Try again!\n",
      "Enter password: 12345\n",
      "Press:\n",
      "1 to VOTE\n",
      "2 to CHECK RESULT\n",
      "3 to CHECK LIVE POLL\n",
      "4 to LOG OUT1\n",
      "\n",
      "You have already cast your vote!\n",
      "\n",
      "\n",
      "Returning to Menu\n",
      "\n"
     ]
    }
   ],
   "source": [
    "main.main_code()\n",
    "\n",
    "#ADMIN ID:1 ADMIN PASS:12345\n",
    "\n",
    "#NAGPUR\n",
    "\n",
    "#TO VOTE AND LIVE POLL ID:9 PASS:12345\n",
    "#TO CHECK RESULT ID:1 PASS:omisha1234\n",
    "\n"
   ]
  },
  {
   "cell_type": "markdown",
   "id": "22b6f910",
   "metadata": {},
   "source": [
    "# "
   ]
  }
 ],
 "metadata": {
  "kernelspec": {
   "display_name": "Python 3 (ipykernel)",
   "language": "python",
   "name": "python3"
  },
  "language_info": {
   "codemirror_mode": {
    "name": "ipython",
    "version": 3
   },
   "file_extension": ".py",
   "mimetype": "text/x-python",
   "name": "python",
   "nbconvert_exporter": "python",
   "pygments_lexer": "ipython3",
   "version": "3.10.7"
  }
 },
 "nbformat": 4,
 "nbformat_minor": 5
}
