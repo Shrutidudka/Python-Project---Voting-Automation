{
 "cells": [
  {
   "cell_type": "code",
   "execution_count": 1,
   "id": "62b36fc7",
   "metadata": {},
   "outputs": [],
   "source": [
    "from EMS_PACKAGE import main"
   ]
  },
  {
   "cell_type": "code",
   "execution_count": null,
   "id": "cd9521ae",
   "metadata": {},
   "outputs": [
    {
     "name": "stdout",
     "output_type": "stream",
     "text": [
      "                                     Maharashtra Legislative assembly election 2022                                     \n",
      "                                         Conducted by State Election Commission                                         \n",
      "Press:\n",
      "1 if you're an ADMIN \n",
      "2 if you're a VOTER \n",
      "3 to EXIT 1\n",
      "\n",
      "Welcome!You have 3 login attempts.\n",
      "\n",
      "Enter Admin ID: 2\n",
      "Enter password: tttt\n",
      "\n",
      "\n",
      "Invalid ID OR Password\n",
      "Try Again!\n",
      "Enter Admin ID: 1\n",
      "Enter password: omisha1234\n",
      "\n",
      "\n",
      "Invalid ID OR Password\n",
      "Try Again!\n",
      "Enter Admin ID: 1\n",
      "Enter password: 1234\n",
      "\n",
      "\n",
      "Invalid ID OR Password\n",
      "Try Again!\n",
      "No more Attempts!\n",
      "Returning to Home!\n",
      "                                     Maharashtra Legislative assembly election 2022                                     \n",
      "                                         Conducted by State Election Commission                                         \n",
      "Press:\n",
      "1 if you're an ADMIN \n",
      "2 if you're a VOTER \n",
      "3 to EXIT 1\n",
      "\n",
      "Welcome!You have 3 login attempts.\n",
      "\n",
      "Enter Admin ID: 1\n"
     ]
    }
   ],
   "source": [
    "main.main_code()\n",
    "\n",
    "#ADMIN ID:1 ADMIN PASS:12345\n",
    "\n",
    "#NAGPUR\n",
    "\n",
    "#TO VOTE AND LIVE POLL ID:9 PASS:12345\n",
    "#TO CHECK RESULT ID:1 PASS:omisha1234\n",
    "\n"
   ]
  },
  {
   "cell_type": "markdown",
   "id": "22b6f910",
   "metadata": {},
   "source": [
    "# "
   ]
  }
 ],
 "metadata": {
  "kernelspec": {
   "display_name": "Python 3",
   "language": "python",
   "name": "python3"
  },
  "language_info": {
   "codemirror_mode": {
    "name": "ipython",
    "version": 3
   },
   "file_extension": ".py",
   "mimetype": "text/x-python",
   "name": "python",
   "nbconvert_exporter": "python",
   "pygments_lexer": "ipython3",
   "version": "3.9.1"
  }
 },
 "nbformat": 4,
 "nbformat_minor": 5
}
